{
  "cells": [
    {
      "cell_type": "markdown",
      "metadata": {
        "id": "view-in-github",
        "colab_type": "text"
      },
      "source": [
        "<a href=\"https://colab.research.google.com/github/Aryan625/One-shot-Learning-using-Siamese-Network/blob/main/One_shot_Learning_using_Siamese_Network.ipynb\" target=\"_parent\"><img src=\"https://colab.research.google.com/assets/colab-badge.svg\" alt=\"Open In Colab\"/></a>"
      ]
    },
    {
      "cell_type": "markdown",
      "metadata": {
        "id": "cSM5ap265Npv"
      },
      "source": [
        "###Imports"
      ]
    },
    {
      "cell_type": "code",
      "execution_count": 1,
      "metadata": {
        "id": "ELHvlXjgxhRD"
      },
      "outputs": [],
      "source": [
        "try:\n",
        "# %tensorflow_version only exists in Colab.\n",
        "  %tensorflow_version 2.x\n",
        "except Exception:\n",
        "  pass\n",
        "\n",
        "import tensorflow as tf\n",
        "from tensorflow.keras.models import Model\n",
        "from tensorflow.keras.layers import Input, Flatten, Dense, Dropout, Lambda\n",
        "from tensorflow.keras.optimizers import RMSprop\n",
        "from tensorflow.keras.datasets import fashion_mnist\n",
        "from tensorflow.python.keras.utils.vis_utils import plot_model\n",
        "from tensorflow.keras import backend as K\n",
        "\n",
        "import numpy as np\n",
        "import matplotlib.pyplot as plt\n",
        "from PIL import Image, ImageFont, ImageDraw\n",
        "import random"
      ]
    },
    {
      "cell_type": "markdown",
      "metadata": {
        "id": "eJaSf2bZ5aFU"
      },
      "source": [
        "###Prepare the Dataset"
      ]
    },
    {
      "cell_type": "markdown",
      "metadata": {
        "id": "tY2800Vi5tH8"
      },
      "source": [
        "####Below are few utilities fuctiion for preparing and visualizing the dataset."
      ]
    },
    {
      "cell_type": "code",
      "execution_count": 2,
      "metadata": {
        "id": "JbX56GV75TnS"
      },
      "outputs": [],
      "source": [
        "def create_pairs(x, digit_indices):\n",
        "    '''Positive and negative pair creation.\n",
        "    Alternates between positive and negative pairs.\n",
        "    '''\n",
        "    pairs = []\n",
        "    labels = []\n",
        "    n = min([len(digit_indices[d]) for d in range(10)]) - 1\n",
        "    \n",
        "    for d in range(10):\n",
        "        for i in range(n):\n",
        "            z1, z2 = digit_indices[d][i], digit_indices[d][i + 1]\n",
        "            pairs += [[x[z1], x[z2]]]\n",
        "            inc = random.randrange(1, 10)\n",
        "            dn = (d + inc) % 10\n",
        "            z1, z2 = digit_indices[d][i], digit_indices[dn][i]\n",
        "            pairs += [[x[z1], x[z2]]]\n",
        "            labels += [1, 0]\n",
        "            \n",
        "    return np.array(pairs), np.array(labels)\n",
        "\n",
        "\n",
        "def create_pairs_on_set(images, labels):\n",
        "    \n",
        "    digit_indices = [np.where(labels == i)[0] for i in range(10)]\n",
        "    pairs, y = create_pairs(images, digit_indices)\n",
        "    y = y.astype('float32')\n",
        "    \n",
        "    return pairs, y\n",
        "\n",
        "\n",
        "def show_image(image):\n",
        "    plt.figure()\n",
        "    plt.imshow(image)\n",
        "    plt.colorbar()\n",
        "    plt.grid(False)\n",
        "    plt.show()"
      ]
    },
    {
      "cell_type": "code",
      "execution_count": 3,
      "metadata": {
        "id": "qaovMf_u5Tp9"
      },
      "outputs": [],
      "source": [
        "# load the dataset\n",
        "(train_images, train_labels), (test_images, test_labels) = tf.keras.datasets.fashion_mnist.load_data()\n",
        "\n",
        "# prepare train and test sets\n",
        "train_images = train_images.astype('float32')\n",
        "test_images = test_images.astype('float32')\n",
        "\n",
        "train_images = train_images.reshape(train_images.shape[0],28,28,1)\n",
        "test_images = test_images.reshape(test_images.shape[0],28,28,1)\n",
        "\n",
        "# normalize values\n",
        "train_images = train_images / 255.0\n",
        "test_images = test_images / 255.0\n",
        "\n",
        "# create pairs on train and test sets\n",
        "tr_pairs, tr_y = create_pairs_on_set(train_images, train_labels)\n",
        "ts_pairs, ts_y = create_pairs_on_set(test_images, test_labels)"
      ]
    },
    {
      "cell_type": "code",
      "source": [
        "tr_pairs.shape"
      ],
      "metadata": {
        "colab": {
          "base_uri": "https://localhost:8080/"
        },
        "id": "ZSyMns-9z13K",
        "outputId": "ae725e75-12f3-44ba-c018-883e29b89c69"
      },
      "execution_count": 4,
      "outputs": [
        {
          "output_type": "execute_result",
          "data": {
            "text/plain": [
              "(119980, 2, 28, 28, 1)"
            ]
          },
          "metadata": {},
          "execution_count": 4
        }
      ]
    },
    {
      "cell_type": "markdown",
      "metadata": {
        "id": "v-jtU-pE6SVM"
      },
      "source": [
        "Below is the code to visualize sample pair of images"
      ]
    },
    {
      "cell_type": "code",
      "execution_count": 5,
      "metadata": {
        "colab": {
          "base_uri": "https://localhost:8080/",
          "height": 538
        },
        "id": "vIaR0_c25Ts5",
        "outputId": "3677e347-6855-41c4-83be-2a19c315abe4"
      },
      "outputs": [
        {
          "output_type": "display_data",
          "data": {
            "text/plain": [
              "<Figure size 432x288 with 2 Axes>"
            ],
            "image/png": "[encoded data removed]"
          },
          "metadata": {
            "needs_background": "light"
          }
        },
        {
          "output_type": "display_data",
          "data": {
            "text/plain": [
              "<Figure size 432x288 with 2 Axes>"
            ],
            "image/png": "[encoded data removed]"
          },
          "metadata": {
            "needs_background": "light"
          }
        },
        {
          "output_type": "stream",
          "name": "stdout",
          "text": [
            "0.0\n"
          ]
        }
      ],
      "source": [
        "# array index\n",
        "# even index no. show pair of images belonging to same class and odd index no. show pair of images belonging to different class\n",
        "this_pair = 1\n",
        "\n",
        "# show images at this index\n",
        "left_image = tr_pairs[this_pair][0].reshape(28, 28)\n",
        "right_image = tr_pairs[this_pair][1].reshape(28, 28)\n",
        "show_image(left_image)\n",
        "show_image(right_image)\n",
        "\n",
        "# print the label for this pair\n",
        "# tr_y = 0:different class;  tr_y = 1:same class\n",
        "print(tr_y[this_pair])"
      ]
    },
    {
      "cell_type": "markdown",
      "metadata": {
        "id": "iCeXFrRF61SM"
      },
      "source": [
        "### Build the Model\n",
        "Below code define the base network of model as well as the euclidean distance between two images for measuring how similar or dissimilar they are."
      ]
    },
    {
      "cell_type": "code",
      "execution_count": 15,
      "metadata": {
        "id": "2U9R_LKh5Tvy"
      },
      "outputs": [],
      "source": [
        "def initialize_base_network():\n",
        "    input = tf.keras.layers.Input(shape=(28,28,1,), name=\"base_input\")\n",
        "\n",
        "    x = tf.keras.layers.Conv2D(32, 3, activation='relu')(input)\n",
        "    # x = tf.keras.layers.BatchNormalization(axis=-1)(x)\n",
        "    x = tf.keras.layers.Conv2D(32, 3, activation='relu')(x)\n",
        "    # x = tf.keras.layers.BatchNormalization(axis=-1)(x)\n",
        "    x = tf.keras.layers.MaxPooling2D((2,2))(x)\n",
        "    x = tf.keras.layers.Dropout(0.25)(x)\n",
        "\n",
        "    x = tf.keras.layers.Conv2D(64, 3, activation='relu')(input)\n",
        "    # x = tf.keras.layers.BatchNormalization(axis=-1)(x)\n",
        "    x = tf.keras.layers.Conv2D(64, 3, activation='relu')(x)\n",
        "    # x = tf.keras.layers.BatchNormalization(axis=-1)(x)\n",
        "    x = tf.keras.layers.MaxPooling2D((2,2))(x)\n",
        "    x = tf.keras.layers.Dropout(0.25)(x)\n",
        "\n",
        "    x = tf.keras.layers.Flatten()(x)\n",
        "    x = tf.keras.layers.Dense(1024, activation='relu')(x)\n",
        "    x = tf.keras.layers.Dropout(0.5)(x)\n",
        "    x = tf.keras.layers.Dense(128, activation='relu')(x)\n",
        "\n",
        "    return Model(inputs=input, outputs=x)\n",
        "\n",
        "\n",
        "def euclidean_distance(vects):\n",
        "    x, y = vects\n",
        "    sum_square = K.sum(K.square(x - y), axis=1, keepdims=True)\n",
        "    return K.sqrt(K.maximum(sum_square, K.epsilon()))\n",
        "\n",
        "\n",
        "def eucl_dist_output_shape(shapes):\n",
        "    shape1, shape2 = shapes\n",
        "    return (shape1[0], 1)"
      ]
    },
    {
      "cell_type": "markdown",
      "metadata": {
        "id": "uWVQxGvs7LxR"
      },
      "source": [
        "####Below code is used to build the **Siamese Network**."
      ]
    },
    {
      "cell_type": "code",
      "execution_count": 16,
      "metadata": {
        "id": "2FCesSM25T5M"
      },
      "outputs": [],
      "source": [
        "base_network = initialize_base_network()\n",
        "\n",
        "# create the left input and point to the base network\n",
        "input_a = Input(shape=(28,28,1,), name=\"left_input\")\n",
        "vect_output_a = base_network(input_a)\n",
        "\n",
        "# create the right input and point to the base network\n",
        "input_b = Input(shape=(28,28,1,), name=\"right_input\")\n",
        "vect_output_b = base_network(input_b)\n",
        "\n",
        "# measure the similarity of the two vector outputs\n",
        "output = Lambda(euclidean_distance, name=\"output_layer\", output_shape=eucl_dist_output_shape)([vect_output_a, vect_output_b])\n",
        "\n",
        "# specify the inputs and output of the model\n",
        "model = Model([input_a, input_b], output)"
      ]
    },
    {
      "cell_type": "markdown",
      "metadata": {
        "id": "Cz7BAyKg7ZzB"
      },
      "source": [
        "###Train the Model\n"
      ]
    },
    {
      "cell_type": "code",
      "execution_count": 17,
      "metadata": {
        "id": "npsUHwbw5T8V"
      },
      "outputs": [],
      "source": [
        "# Below code defines the custom loss for the network\n",
        "\n",
        "def contrastive_loss_with_margin(margin):\n",
        "    def contrastive_loss(y_true, y_pred):\n",
        "        square_pred = K.square(y_pred)\n",
        "        margin_square = K.square(K.maximum(margin - y_pred, 0))\n",
        "        return K.mean(y_true * square_pred + (1 - y_true) * margin_square)\n",
        "    return contrastive_loss"
      ]
    },
    {
      "cell_type": "code",
      "execution_count": 18,
      "metadata": {
        "colab": {
          "base_uri": "https://localhost:8080/"
        },
        "id": "n_Ean2Fj5T_L",
        "outputId": "0cc1e09b-6e57-4cdf-898a-e6c1a2cdbf92"
      },
      "outputs": [
        {
          "output_type": "stream",
          "name": "stdout",
          "text": [
            "Epoch 1/20\n",
            "938/938 [==============================] - 21s 22ms/step - loss: 0.1282 - val_loss: 0.0942\n",
            "Epoch 2/20\n",
            "938/938 [==============================] - 21s 22ms/step - loss: 0.0980 - val_loss: 0.0838\n",
            "Epoch 3/20\n",
            "938/938 [==============================] - 21s 22ms/step - loss: 0.0892 - val_loss: 0.0787\n",
            "Epoch 4/20\n",
            "938/938 [==============================] - 20s 22ms/step - loss: 0.0835 - val_loss: 0.0742\n",
            "Epoch 5/20\n",
            "938/938 [==============================] - 21s 22ms/step - loss: 0.0791 - val_loss: 0.0713\n",
            "Epoch 6/20\n",
            "938/938 [==============================] - 20s 22ms/step - loss: 0.0756 - val_loss: 0.0706\n",
            "Epoch 7/20\n",
            "938/938 [==============================] - 21s 22ms/step - loss: 0.0726 - val_loss: 0.0676\n",
            "Epoch 8/20\n",
            "938/938 [==============================] - 21s 22ms/step - loss: 0.0699 - val_loss: 0.0645\n",
            "Epoch 9/20\n",
            "938/938 [==============================] - 21s 22ms/step - loss: 0.0677 - val_loss: 0.0629\n",
            "Epoch 10/20\n",
            "938/938 [==============================] - 21s 22ms/step - loss: 0.0656 - val_loss: 0.0629\n",
            "Epoch 11/20\n",
            "938/938 [==============================] - 21s 22ms/step - loss: 0.0636 - val_loss: 0.0602\n",
            "Epoch 12/20\n",
            "938/938 [==============================] - 21s 22ms/step - loss: 0.0618 - val_loss: 0.0588\n",
            "Epoch 13/20\n",
            "938/938 [==============================] - 21s 22ms/step - loss: 0.0602 - val_loss: 0.0586\n",
            "Epoch 14/20\n",
            "938/938 [==============================] - 21s 22ms/step - loss: 0.0588 - val_loss: 0.0568\n",
            "Epoch 15/20\n",
            "938/938 [==============================] - 21s 22ms/step - loss: 0.0574 - val_loss: 0.0561\n",
            "Epoch 16/20\n",
            "938/938 [==============================] - 21s 22ms/step - loss: 0.0561 - val_loss: 0.0556\n",
            "Epoch 17/20\n",
            "938/938 [==============================] - 21s 22ms/step - loss: 0.0550 - val_loss: 0.0543\n",
            "Epoch 18/20\n",
            "938/938 [==============================] - 21s 22ms/step - loss: 0.0536 - val_loss: 0.0534\n",
            "Epoch 19/20\n",
            "938/938 [==============================] - 21s 22ms/step - loss: 0.0525 - val_loss: 0.0525\n",
            "Epoch 20/20\n",
            "938/938 [==============================] - 21s 22ms/step - loss: 0.0514 - val_loss: 0.0524\n"
          ]
        }
      ],
      "source": [
        "model.compile(loss=contrastive_loss_with_margin(margin=1), optimizer=tf.keras.optimizers.SGD(learning_rate=0.01, momentum=0.9))\n",
        "history = model.fit([tr_pairs[:,0], tr_pairs[:,1]], tr_y, epochs=20, batch_size=128, validation_data=([ts_pairs[:,0], ts_pairs[:,1]], ts_y))"
      ]
    },
    {
      "cell_type": "markdown",
      "metadata": {
        "id": "2xF4OjVZ7q6D"
      },
      "source": [
        "###Model Evaluation"
      ]
    },
    {
      "cell_type": "code",
      "execution_count": 19,
      "metadata": {
        "id": "pEZjBBU85UEn"
      },
      "outputs": [],
      "source": [
        "def compute_accuracy(y_true, y_pred):\n",
        "    '''Compute classification accuracy with a fixed threshold on distances.\n",
        "        If the distance is less than 0.5 the pair of images will be consider similar giving output 1.0 or vice-versa'''\n",
        "    pred = y_pred.ravel() < 0.5\n",
        "    return np.mean(pred == y_true)"
      ]
    },
    {
      "cell_type": "code",
      "execution_count": 22,
      "metadata": {
        "colab": {
          "base_uri": "https://localhost:8080/"
        },
        "id": "AUUV6JZ_5UIC",
        "outputId": "f09dc015-3f76-4f64-9998-a98535f28a03"
      },
      "outputs": [
        {
          "output_type": "stream",
          "name": "stdout",
          "text": [
            "625/625 [==============================] - 2s 3ms/step - loss: 0.0524\n",
            "Loss = 0.05, Train Accuracy = 94.86 %, Test Accuracy = 93.32 %\n"
          ]
        }
      ],
      "source": [
        "loss = model.evaluate(x=[ts_pairs[:,0],ts_pairs[:,1]], y=ts_y)\n",
        "\n",
        "y_pred_train = model.predict([tr_pairs[:,0], tr_pairs[:,1]])\n",
        "train_accuracy = compute_accuracy(tr_y, y_pred_train)\n",
        "\n",
        "y_pred_test = model.predict([ts_pairs[:,0], ts_pairs[:,1]])\n",
        "test_accuracy = compute_accuracy(ts_y, y_pred_test)\n",
        "\n",
        "print(f\"Loss = {loss:.2f}, Train Accuracy = {train_accuracy*100:.2f} %, Test Accuracy = {test_accuracy*100:.2f} %\")"
      ]
    },
    {
      "cell_type": "code",
      "execution_count": 21,
      "metadata": {
        "colab": {
          "base_uri": "https://localhost:8080/",
          "height": 281
        },
        "id": "8bkMt-Jv5UK1",
        "outputId": "b5d378f0-46e0-4c5d-e9de-91c27e9de8db"
      },
      "outputs": [
        {
          "output_type": "display_data",
          "data": {
            "text/plain": [
              "<Figure size 432x288 with 1 Axes>"
            ],
            "image/png": "[encoded data removed]"
          },
          "metadata": {
            "needs_background": "light"
          }
        }
      ],
      "source": [
        "def plot_metrics(metric_name, title, ylim=5):\n",
        "    plt.title(title)\n",
        "    plt.ylim(0,ylim)\n",
        "    plt.plot(history.history[metric_name],color='blue',label=metric_name)\n",
        "    plt.plot(history.history['val_' + metric_name],color='green',label='val_' + metric_name)\n",
        "\n",
        "\n",
        "plot_metrics(metric_name='loss', title=\"Loss\", ylim=0.3)"
      ]
    },
    {
      "cell_type": "markdown",
      "metadata": {
        "id": "qihipOos76PH"
      },
      "source": [
        "Below code provides Utility to display any two images from test dataset and the prediction that whether they belong to same or different class"
      ]
    },
    {
      "cell_type": "code",
      "execution_count": 13,
      "metadata": {
        "id": "7EKjagyq5UQd"
      },
      "outputs": [],
      "source": [
        "# Matplotlib config\n",
        "def visualize_images():\n",
        "    plt.rc('image', cmap='gray_r')\n",
        "    plt.rc('grid', linewidth=0)\n",
        "    plt.rc('xtick', top=False, bottom=False, labelsize='large')\n",
        "    plt.rc('ytick', left=False, right=False, labelsize='large')\n",
        "    plt.rc('axes', facecolor='F8F8F8', titlesize=\"large\", edgecolor='white')\n",
        "    plt.rc('text', color='a8151a')\n",
        "    plt.rc('figure', facecolor='F0F0F0')# Matplotlib fonts\n",
        "\n",
        "\n",
        "# utility to display a row of digits with their predictions\n",
        "def display_images(left, right, predictions, labels, title, n):\n",
        "    plt.figure(figsize=(17,3))\n",
        "    plt.title(title)\n",
        "    plt.yticks([])\n",
        "    plt.xticks([])\n",
        "    plt.grid(None)\n",
        "    left = np.reshape(left, [n, 28, 28])\n",
        "    left = np.swapaxes(left, 0, 1)\n",
        "    left = np.reshape(left, [28, 28*n])\n",
        "    plt.imshow(left)\n",
        "    plt.figure(figsize=(17,3))\n",
        "    plt.yticks([])\n",
        "    plt.xticks([28*x+14 for x in range(n)], predictions)\n",
        "    for i,t in enumerate(plt.gca().xaxis.get_ticklabels()):\n",
        "        if predictions[i] > 0.5: t.set_color('red') # prediction of object belonging to different class is shown in red\n",
        "    plt.grid(None)\n",
        "    right = np.reshape(right, [n, 28, 28])\n",
        "    right = np.swapaxes(right, 0, 1)\n",
        "    right = np.reshape(right, [28, 28*n])\n",
        "    plt.imshow(right)"
      ]
    },
    {
      "cell_type": "markdown",
      "metadata": {
        "id": "AQZH0tCh8rM8"
      },
      "source": [
        "#### Visualized sample results for 10 pairs of items below."
      ]
    },
    {
      "cell_type": "code",
      "execution_count": 14,
      "metadata": {
        "colab": {
          "base_uri": "https://localhost:8080/",
          "height": 271
        },
        "id": "cOvnxQB65UTy",
        "outputId": "e6af868f-b82f-4f89-cae5-d9e1ff051a33"
      },
      "outputs": [
        {
          "output_type": "display_data",
          "data": {
            "text/plain": [
              "<Figure size 1224x216 with 1 Axes>"
            ],
            "image/png": "[encoded data removed]"
          },
          "metadata": {}
        },
        {
          "output_type": "display_data",
          "data": {
            "text/plain": [
              "<Figure size 1224x216 with 1 Axes>"
            ],
            "image/png": "[encoded data removed]"
          },
          "metadata": {
            "needs_background": "light"
          }
        }
      ],
      "source": [
        "y_pred_train = np.squeeze(y_pred_train)\n",
        "indexes = np.random.choice(len(y_pred_train), size=10)\n",
        "display_images(tr_pairs[:, 0][indexes], tr_pairs[:, 1][indexes], y_pred_train[indexes], tr_y[indexes], \"clothes and their dissimilarity\", 10)"
      ]
    },
    {
      "cell_type": "code",
      "execution_count": null,
      "metadata": {
        "id": "IZ0RlVfD5UWw"
      },
      "outputs": [],
      "source": [
        ""
      ]
    },
    {
      "cell_type": "code",
      "execution_count": null,
      "metadata": {
        "id": "mj9YmPk05UZj"
      },
      "outputs": [],
      "source": [
        ""
      ]
    },
    {
      "cell_type": "code",
      "execution_count": null,
      "metadata": {
        "id": "Y2ywXORg5Ucx"
      },
      "outputs": [],
      "source": [
        ""
      ]
    }
  ],
  "metadata": {
    "accelerator": "GPU",
    "colab": {
      "collapsed_sections": [],
      "name": "One-shot Learning using Siamese Network.ipynb",
      "provenance": [],
      "authorship_tag": "ABX9TyOq2UJZsR4w2XkxNrYY+cKG",
      "include_colab_link": true
    },
    "kernelspec": {
      "display_name": "Python 3",
      "name": "python3"
    },
    "language_info": {
      "name": "python"
    }
  },
  "nbformat": 4,
  "nbformat_minor": 0
}